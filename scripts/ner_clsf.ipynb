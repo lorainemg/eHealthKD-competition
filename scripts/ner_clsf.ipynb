{
 "cells": [
  {
   "cell_type": "code",
   "execution_count": null,
   "metadata": {},
   "outputs": [],
   "source": [
    "from ner_clsf import NERClassifier"
   ]
  },
  {
   "cell_type": "code",
   "execution_count": null,
   "metadata": {},
   "outputs": [],
   "source": [
    "from anntools import Collection\n",
    "from pathlib import Path"
   ]
  },
  {
   "cell_type": "code",
   "execution_count": null,
   "metadata": {},
   "outputs": [],
   "source": [
    "# collection = Collection().load_dir(Path('2021/ref/training'))"
   ]
  },
  {
   "cell_type": "code",
   "execution_count": null,
   "metadata": {},
   "outputs": [],
   "source": [
    "ner_clf = NERClassifier()"
   ]
  },
  {
   "cell_type": "code",
   "execution_count": null,
   "metadata": {},
   "outputs": [],
   "source": [
    "# ner_clf.train(collection)"
   ]
  },
  {
   "cell_type": "code",
   "execution_count": null,
   "metadata": {},
   "outputs": [],
   "source": [
    "# ner_clf.save_model('ner')"
   ]
  },
  {
   "cell_type": "code",
   "execution_count": null,
   "metadata": {},
   "outputs": [],
   "source": [
    "dev_set = Collection().load(Path('2021/eval/develop/scenario1-main/input.txt'))"
   ]
  },
  {
   "cell_type": "code",
   "execution_count": null,
   "metadata": {},
   "outputs": [],
   "source": [
    "ner_clf.load_model('ner')"
   ]
  },
  {
   "cell_type": "code",
   "execution_count": null,
   "metadata": {},
   "outputs": [],
   "source": [
    "#     features = self.get_features(collection)\n",
    "#     X = self.preprocess_features(features, {'dep': 0, 'pos': 0}, train=False)\n",
    "#     pred = self.model.predict(X, verbose=1)\n",
    "#     return self.convert_to_label(pred)"
   ]
  },
  {
   "cell_type": "code",
   "execution_count": null,
   "metadata": {},
   "outputs": [],
   "source": [
    "len(dev_set)"
   ]
  },
  {
   "cell_type": "code",
   "execution_count": null,
   "metadata": {},
   "outputs": [],
   "source": [
    "labels, indices = ner_clf.test_model(dev_set)\n",
    "indices[:10]"
   ]
  },
  {
   "cell_type": "code",
   "execution_count": null,
   "metadata": {},
   "outputs": [],
   "source": [
    "from anntools import Sentence, Relation, Keyphrase\n",
    "import spacy\n",
    "nlp = spacy.load('es_core_news_sm')"
   ]
  },
  {
   "cell_type": "code",
   "execution_count": null,
   "metadata": {},
   "outputs": [],
   "source": [
    "dev_set = Collection().load(Path('2021/eval/develop/scenario1-main/input.txt'))"
   ]
  },
  {
   "cell_type": "code",
   "execution_count": null,
   "metadata": {},
   "outputs": [],
   "source": [
    "def get_label(label, pred_label, multiple, sent, next_id, word):\n",
    "    if label not in pred_label:\n",
    "        return False, next_id, multiple\n",
    "    if pred_label == 'B-' + label:\n",
    "        if multiple:\n",
    "            sent.keyphrases.append(Keyphrase(sent, label, next_id, multiple))\n",
    "            next_id += 1\n",
    "        multiple = []\n",
    "    try:\n",
    "        idx = multiple[-1][-1]\n",
    "    except IndexError:\n",
    "        idx = 0\n",
    "    i = sent.text.index(word.text, idx)\n",
    "    span = i, i + len(word)\n",
    "    multiple.append(span)\n",
    "    return True, next_id, multiple"
   ]
  },
  {
   "cell_type": "code",
   "execution_count": null,
   "metadata": {},
   "outputs": [],
   "source": [
    "def complete_sentences(labels, indices, sentences):\n",
    "    next_id = 0\n",
    "    for sent_label, index in zip(labels, indices):\n",
    "        multiple_concepts = []\n",
    "        multiple_actions = []\n",
    "        multiple_predicates = []\n",
    "        multiple_references = []\n",
    "        sent = sentences[index]\n",
    "        tokens = nlp(sent.text)\n",
    "        for label, word in zip(sent_label, tokens):\n",
    "            concept, next_id, multiple_concepts = get_label('Concept', label, multiple_concepts, sent, next_id, word)\n",
    "            if not concept:\n",
    "                action, next_id, multiple_actions = get_label('Action', label, multiple_actions, sent, next_id, word)\n",
    "                if not action:\n",
    "                    reference, next_id, multiple_references = get_label('Reference', label, multiple_references, sent, next_id, word)\n",
    "                    if not reference:\n",
    "                        _, next_id, multiple_predicates = get_label('Predicate', label, multiple_predicates, sent, next_id, word)\n",
    "        if multiple_concepts:\n",
    "            sent.keyphrases.append(Keyphrase(sent, 'Concept', next_id, multiple_concepts))\n",
    "            next_id += 1\n",
    "        if multiple_actions:\n",
    "            sent.keyphrases.append(Keyphrase(sent, 'Action', next_id, multiple_actions))\n",
    "            next_id += 1\n",
    "        if multiple_predicates:\n",
    "            sent.keyphrases.append(Keyphrase(sent, 'Predicate', next_id, multiple_predicates))\n",
    "            next_id += 1\n",
    "        if multiple_references:\n",
    "            sent.keyphrases.append(Keyphrase(sent, 'Reference', next_id, multiple_references))\n",
    "            next_id += 1"
   ]
  },
  {
   "cell_type": "code",
   "execution_count": null,
   "metadata": {},
   "outputs": [],
   "source": [
    "complete_sentences(labels, indices, dev_set)"
   ]
  },
  {
   "cell_type": "code",
   "execution_count": null,
   "metadata": {},
   "outputs": [],
   "source": [
    "# labels[0]"
   ]
  },
  {
   "cell_type": "code",
   "execution_count": null,
   "metadata": {},
   "outputs": [],
   "source": [
    "dev_set.sentences"
   ]
  },
  {
   "cell_type": "code",
   "execution_count": null,
   "metadata": {},
   "outputs": [],
   "source": []
  }
 ],
 "metadata": {
  "kernelspec": {
   "display_name": "ia-env",
   "language": "python",
   "name": "ia-env"
  },
  "language_info": {
   "codemirror_mode": {
    "name": "ipython",
    "version": 3
   },
   "file_extension": ".py",
   "mimetype": "text/x-python",
   "name": "python",
   "nbconvert_exporter": "python",
   "pygments_lexer": "ipython3",
   "version": "3.7.3"
  }
 },
 "nbformat": 4,
 "nbformat_minor": 4
}
